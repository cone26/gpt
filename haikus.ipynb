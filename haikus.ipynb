{
 "cells": [
  {
   "cell_type": "code",
   "execution_count": null,
   "id": "7db0e8f6",
   "metadata": {},
   "outputs": [
    {
     "data": {
      "text/plain": [
       "AIMessage(content=\"This series of haikus celebrates the elegance and power of Java programming language. \\n\\nThe first haiku sets the stage by describing Java as thriving in the land of code, crafting apps with ease and elegance.\\n\\nThe second haiku highlights the foundation of Java, which is built on objects and classes, forming the basis for creating complex worlds of code.\\n\\nThe third haiku focuses on the syntax of Java, comparing it to a beautiful song with a rhythm that flows gracefully, creating beauty in the code.\\n\\nThe fourth haiku delves into the concept of threads in Java, describing how they weave together to create concurrent processes that dance in harmony, showcasing the language's ability to handle multiple tasks seamlessly.\\n\\nThe fifth haiku delves into the magic of Java code at the byte level, where the language's true power and potential unfolds, crafting dreams and possibilities within the realm of code.\\n\\nOverall, these haikus capture the essence of Java as a language that is not only powerful and efficient but also elegant and capable of creating intricate and beautiful creations in the world of programming.\")"
      ]
     },
     "execution_count": 7,
     "metadata": {},
     "output_type": "execute_result"
    }
   ],
   "source": [
    "from langchain.chat_models import ChatOpenAI\n",
    "from langchain.prompts import ChatPromptTemplate\n",
    "\n",
    "\n",
    "chat = ChatOpenAI()\n",
    "\n",
    "\n",
    "haikus_prompt = ChatPromptTemplate.from_messages([\n",
    "    (\"system\",\"You are specialised in writing Haikus. And the Haikus are only about {computer_language}\"),\n",
    "])\n",
    "\n",
    "haikus_chain = haikus_prompt | chat\n",
    "\n",
    "explanation_prompt = ChatPromptTemplate.from_messages([\n",
    "    (\n",
    "        \"system\",\"You are specialised in explaning Haikus. You explain {haiku}\"\n",
    "    )\n",
    "])\n",
    "\n",
    "explanation_chain = explanation_prompt | chat\n",
    "\n",
    "final_chain = {\"haiku\": haikus_chain} | explanation_chain\n",
    "\n",
    "final_chain.invoke({\n",
    "    \"computer_language\":\"Java\"\n",
    "})\n"
   ]
  }
 ],
 "metadata": {
  "kernelspec": {
   "display_name": "env",
   "language": "python",
   "name": "python3"
  },
  "language_info": {
   "codemirror_mode": {
    "name": "ipython",
    "version": 3
   },
   "file_extension": ".py",
   "mimetype": "text/x-python",
   "name": "python",
   "nbconvert_exporter": "python",
   "pygments_lexer": "ipython3",
   "version": "3.13.5"
  }
 },
 "nbformat": 4,
 "nbformat_minor": 5
}
